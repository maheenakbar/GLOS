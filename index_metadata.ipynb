{
 "cells": [
  {
   "cell_type": "code",
   "execution_count": 14,
   "metadata": {},
   "outputs": [],
   "source": [
    "from elasticsearch import Elasticsearch\n",
    "from elasticsearch.helpers import bulk, streaming_bulk\n",
    "import json\n",
    "import math\n",
    "import numbers\n",
    "import pandas as pd"
   ]
  },
  {
   "cell_type": "code",
   "execution_count": 39,
   "metadata": {},
   "outputs": [],
   "source": [
    "host_url = ['http://127.0.0.1:9200']"
   ]
  },
  {
   "cell_type": "code",
   "execution_count": 40,
   "metadata": {},
   "outputs": [],
   "source": [
    "es_conn = Elasticsearch(host_url)"
   ]
  },
  {
   "cell_type": "code",
   "execution_count": 41,
   "metadata": {},
   "outputs": [],
   "source": [
    "def sanitize(value):\n",
    "    if isinstance(value, numbers.Number) and math.isnan(value):\n",
    "        return None\n",
    "    else:\n",
    "        return value\n",
    "\n",
    "def parse_metadata(metadata_df):\n",
    "    for index, row in metadata_df.iterrows():\n",
    "        yield json.dumps({'index' : 'metadata',\n",
    "        'doc_type' : 'record',\n",
    "        'doc' : {\n",
    "        'schema' : sanitize(row[0]),\n",
    "        'uuid' : sanitize(row[1]), \n",
    "        'id' : sanitize(row[2]), \n",
    "        'title' : sanitize(row[3]), \n",
    "        'abstract' : sanitize(row[4]), \n",
    "        'keyword' : sanitize(row[5]),\n",
    "        'link' : sanitize(row[6]),\n",
    "        'responsibleParty' : sanitize(row[7]),\n",
    "        'metadatacreationdate' : sanitize(row[8]),\n",
    "        'geoBox' : sanitize(row[9]),\n",
    "        'image' : sanitize(row[10]),\n",
    "        'LegalConstraints' : sanitize(row[11]),\n",
    "        'temporalExtent' : sanitize(row[12]),\n",
    "        'parentId' : sanitize(row[13]),\n",
    "        'datasetcreationdate' : sanitize(row[14]),\n",
    "        'Constraints' : sanitize(row[15]),\n",
    "        'SecurityConstraints' : sanitize(row[16])\n",
    "              },}, \n",
    "        allow_nan = False)"
   ]
  },
  {
   "cell_type": "code",
   "execution_count": 42,
   "metadata": {},
   "outputs": [],
   "source": [
    "df = pd.read_csv('clean_metadata.csv')"
   ]
  },
  {
   "cell_type": "code",
   "execution_count": 43,
   "metadata": {},
   "outputs": [
    {
     "data": {
      "text/plain": [
       "(864, [])"
      ]
     },
     "execution_count": 43,
     "metadata": {},
     "output_type": "execute_result"
    }
   ],
   "source": [
    "bulk(es_conn, parse_metadata(df), index = 'metadata', doc_type = 'record')"
   ]
  },
  {
   "cell_type": "code",
   "execution_count": 44,
   "metadata": {},
   "outputs": [
    {
     "name": "stdout",
     "output_type": "stream",
     "text": [
      "864 documents in index\n"
     ]
    }
   ],
   "source": [
    "print (es_conn.count(index='metadata')['count'], 'documents in index')"
   ]
  },
  {
   "cell_type": "code",
   "execution_count": 45,
   "metadata": {},
   "outputs": [
    {
     "data": {
      "text/plain": [
       "{'took': 4,\n",
       " 'timed_out': False,\n",
       " '_shards': {'total': 5, 'successful': 5, 'skipped': 0, 'failed': 0},\n",
       " 'hits': {'total': 864,\n",
       "  'max_score': 1.0,\n",
       "  'hits': [{'_index': 'metadata',\n",
       "    '_type': 'record',\n",
       "    '_id': 'QeJ4DGkBjyVARiGt5y-7',\n",
       "    '_score': 1.0,\n",
       "    '_source': {'index': 'metadata',\n",
       "     'doc_type': 'record',\n",
       "     'doc': {'schema': ' iso19139',\n",
       "      'uuid': '50e557e7e4b0a4aa5bb02c02',\n",
       "      'id': '1291',\n",
       "      'title': 'Trophic transfer efficiency of methylmercury and inorganic mercury to lake trout <i>Salvelinus namaycush</i> from its prey',\n",
       "      'abstract': 'Based on a laboratory experiment, we estimated the net trophic transfer efficiency of methylmercury to lake trout <i>Salvelinus namaycush</i> from its prey to be equal to 76.6 %. Under the assumption that gross trophic transfer efficiency of methylmercury to lake trout from its prey was equal to 80 %, we estimated that the rate at which lake trout eliminated methylmercury was 0.000244 day<sup>−1</sup>. Our laboratory estimate of methylmercury elimination rate was 5.5 times lower than the value predicted by a published regression equation developed from estimates of methylmercury elimination rates for fish available from the literature. Thus, our results, in conjunction with other recent findings, suggested that methylmercury elimination rates for fish have been overestimated in previous studies. In addition, based on our laboratory experiment, we estimated that the net trophic transfer efficiency of inorganic mercury to lake trout from its prey was 63.5 %. The lower net trophic transfer efficiency for inorganic mercury compared with that for methylmercury was partly attributable to the greater elimination rate for inorganic mercury. We also found that the efficiency with which lake trout retained either methylmercury or inorganic mercury from their food did not appear to be significantly affected by the degree of their swimming activity.',\n",
       "      'keyword': 'Archives of Environmental Contamination and Toxicology',\n",
       "      'link': ' https://www.sciencebase.gov/catalog/item/50e557e7e4b0a4aa5bb02c02  http://pubs.er.usgs.gov/publication/70042017  https://www.sciencebase.gov/catalog/file/get/50e557e7e4b0a4aa5bb02c02',\n",
       "      'responsibleParty': 'C.P. Madenijian S.R. David D.P. Krabbenhoft Springer',\n",
       "      'metadatacreationdate': '2018-07-12T06:39:34Z',\n",
       "      'geoBox': None,\n",
       "      'image': None,\n",
       "      'LegalConstraints': None,\n",
       "      'temporalExtent': None,\n",
       "      'parentId': None,\n",
       "      'datasetcreationdate': None,\n",
       "      'Constraints': None,\n",
       "      'SecurityConstraints': None}}},\n",
       "   {'_index': 'metadata',\n",
       "    '_type': 'record',\n",
       "    '_id': 'ROJ4DGkBjyVARiGt5y-7',\n",
       "    '_score': 1.0,\n",
       "    '_source': {'index': 'metadata',\n",
       "     'doc_type': 'record',\n",
       "     'doc': {'schema': ' iso19139',\n",
       "      'uuid': '54dd2aa8e4b08de9379b316c',\n",
       "      'id': '1322',\n",
       "      'title': 'Relationships between land cover and dissolved organic matter change along the river to lake transition',\n",
       "      'abstract': '  Dissolved organic matter (DOM) influences the physical, chemical, and biological properties of aquatic ecosystems. We hypothesized that controls over spatial variation in DOM quantity and composition (measured with DOM optical properties) differ based on the source of DOM to aquatic ecosystems. DOM quantity and composition should be better predicted by land cover in aquatic habitats with allochthonous DOM and related more strongly to nutrients in aquatic habitats with autochthonous DOM. Three habitat types [rivers (R), rivermouths (RM), and the nearshore zone (L)] associated with 23 tributaries of the Laurentian Great Lakes were sampled to test this prediction. Evidence from optical indices suggests that DOM in these habitats generally ranged from allochthonous (R sites) to a mix of allochthonous-like and autochthonous-like (L sites). Contrary to expectations, DOM properties such as the fluorescence index, humification index, and spectral slope ratio were only weakly related to land cover or nutrient data (Bayesian&nbsp; <i>R</i> &nbsp;  2  &nbsp;values were indistinguishable from zero). Strongly supported models in all habitat types linked DOM quantity (that is, dissolved organic carbon concentration [DOC]) to both land cover and nutrients (Bayesian&nbsp; <i>R</i> 2  &nbsp;values ranging from 0.55 to 0.72). Strongly supported models predicting DOC changed with habitat type: The most important predictor in R sites was wetlands whereas the most important predictor at L sites was croplands. These results suggest that as the DOM pool becomes more autochthonous-like, croplands become a more important driver of spatial variation in DOC and wetlands become less important.  ',\n",
       "      'keyword': 'Ecosystems',\n",
       "      'link': ' https://www.sciencebase.gov/catalog/item/54dd2aa8e4b08de9379b316c  http://pubs.er.usgs.gov/publication/70137838  https://www.sciencebase.gov/catalog/file/get/54dd2aa8e4b08de9379b316c',\n",
       "      'responsibleParty': 'James H. Larsonjhlarson@usgs.gov Paul C. Frost Marguerite A. Xenopoulos Clayton J. Williams Ana M. Morales-Williams Jonathan M. Vallazzajvallazza@usgs.gov J. C. Nelsonjcnelson@usgs.gov William B. Richardsonwrichardson@usgs.gov Springer',\n",
       "      'metadatacreationdate': '2018-07-12T06:04:45Z',\n",
       "      'geoBox': None,\n",
       "      'image': None,\n",
       "      'LegalConstraints': None,\n",
       "      'temporalExtent': None,\n",
       "      'parentId': None,\n",
       "      'datasetcreationdate': None,\n",
       "      'Constraints': None,\n",
       "      'SecurityConstraints': None}}},\n",
       "   {'_index': 'metadata',\n",
       "    '_type': 'record',\n",
       "    '_id': 'UOJ4DGkBjyVARiGt5y-7',\n",
       "    '_score': 1.0,\n",
       "    '_source': {'index': 'metadata',\n",
       "     'doc_type': 'record',\n",
       "     'doc': {'schema': ' iso19139',\n",
       "      'uuid': '5137220ae4b02ab8869bfffd',\n",
       "      'id': '1299',\n",
       "      'title': 'Nearshore hydrodynamics as loading and forcing factors for <i>Escherichia coli</i> contamination at an embayed beach',\n",
       "      'abstract': 'Numerical simulations of the transport and fate of <i>Escherichia coli</i> were conducted at Chicago’s 63rd Street Beach, an embayed beach that had the highest mean <i>E. coli</i> concentration among 23 similar Lake Michigan beaches during summer months of 2000-2005, in order to find the cause for the high bacterial contamination. The numerical model was based on the transport of E. coli by current circulation patterns in the embayment driven by longshore main currents and the loss of <i>E. coli</i> in the water column, taking settling as well as bacterial dark- and solar-related decay into account. Two <i>E. coli</i> loading scenarios were considered: one from the open boundary north of the embayment and the other from the shallow water near the beachfront. Simulations showed that the embayed beach behaves as a sink for <i>E. coli</i> in that it generally receives E. coli more efficiently than it releases them. This is a result of the significantly different hydrodynamic forcing factors between the inside of the embayment and the main coastal flow outside. The settled <i>E. coli</i> inside the embayment can be a potential source of contamination during subsequent sediment resuspension events, suggesting that deposition-resuspension cycles of <i>E. coli</i> have resulted in excessive bacterial contamination of beach water. A further hypothetical case with a breakwater shortened to half its original length, which was anticipated to enhance the current circulation in the embayment, showed a reduction in <i>E. coli</i> concentrations of nearly 20%.',\n",
       "      'keyword': 'Limnology and Oceanography',\n",
       "      'link': ' https://www.sciencebase.gov/catalog/item/5137220ae4b02ab8869bfffd  http://pubs.er.usgs.gov/publication/70043317  https://www.sciencebase.gov/catalog/file/get/5137220ae4b02ab8869bfffd',\n",
       "      'responsibleParty': 'Zhongfu Ge Richard L. Whitmanrwhitman@usgs.gov Meredith B. Nevers Mantha S. Phanikumar Muruleedhara N. Byappanahalli ASLO (Association for the Sciences of Limnology and Oceanography)',\n",
       "      'metadatacreationdate': '2018-07-12T06:52:23Z',\n",
       "      'geoBox': None,\n",
       "      'image': None,\n",
       "      'LegalConstraints': None,\n",
       "      'temporalExtent': None,\n",
       "      'parentId': None,\n",
       "      'datasetcreationdate': None,\n",
       "      'Constraints': None,\n",
       "      'SecurityConstraints': None}}},\n",
       "   {'_index': 'metadata',\n",
       "    '_type': 'record',\n",
       "    '_id': 'buJ4DGkBjyVARiGt5y-7',\n",
       "    '_score': 1.0,\n",
       "    '_source': {'index': 'metadata',\n",
       "     'doc_type': 'record',\n",
       "     'doc': {'schema': ' iso19139',\n",
       "      'uuid': '5371df51e4b08449547883cf',\n",
       "      'id': '1208',\n",
       "      'title': 'Assessment of suitable habitat for <i>Phragmites australis</i> (common reed) in the Great Lakes coastal zone',\n",
       "      'abstract': 'In the Laurentian Great Lakes, the invasive form of <i>Phragmites australis</i> (common reed) poses a threat to highly productive coastal wetlands and shorelines by forming impenetrable stands that outcompete native plants. Large, dominant stands can derail efforts to restore wetland ecosystems degraded by other stressors. To be proactive, landscape-level management of <i>Phragmites</i> requires information on the current spatial distribution of the species and a characterization of areas suitable for future colonization. Using a recent basin-scale map of this invasive plant’s distribution in the U.S. coastal zone of the Great Lakes, environmental data (e.g., soils, nutrients, disturbance, climate, topography), and climate predictions, we performed analyses of current and predicted suitable coastal habitat using boosted regression trees, a type of species distribution modeling. We also investigated differential influences of environmental variables in the upper lakes (Lakes Superior, Michigan, and Huron) and lower lakes (Lakes St. Clair, Erie, and Ontario). Basin-wide results showed that the coastal areas most vulnerable to <i>Phragmites</i> expansion were in close proximity to developed lands and had minimal topographic relief, poorly drained soils, and dense road networks. Elevated nutrients and proximity to agriculture also influenced the distribution of <i>Phragmites</i>. Climate predictions indicated an increase in suitable habitat in coastal Lakes Huron and Michigan in particular. The results of this study, combined with a publicly available online decision support tool, will enable resource managers and restoration practitioners to target and prioritize <i>Phragmites</i> control efforts in the Great Lakes coastal zone.',\n",
       "      'keyword': 'Aquatic Invasions',\n",
       "      'link': ' https://www.sciencebase.gov/catalog/item/5371df51e4b08449547883cf  http://pubs.er.usgs.gov/publication/70104177  https://www.sciencebase.gov/catalog/file/get/5371df51e4b08449547883cf',\n",
       "      'responsibleParty': 'Martha L. Carlson Mazur Kurt P. Kowalskikkowalski@usgs.gov David Galbraith Regional Euro-Asian Biological Invasions Centre',\n",
       "      'metadatacreationdate': '2018-07-12T06:11:15Z',\n",
       "      'geoBox': '-92.9911 -73.9943 39.981 49.0076',\n",
       "      'image': None,\n",
       "      'LegalConstraints': None,\n",
       "      'temporalExtent': None,\n",
       "      'parentId': None,\n",
       "      'datasetcreationdate': None,\n",
       "      'Constraints': None,\n",
       "      'SecurityConstraints': None}}},\n",
       "   {'_index': 'metadata',\n",
       "    '_type': 'record',\n",
       "    '_id': 'cOJ4DGkBjyVARiGt5y-7',\n",
       "    '_score': 1.0,\n",
       "    '_source': {'index': 'metadata',\n",
       "     'doc_type': 'record',\n",
       "     'doc': {'schema': ' iso19139',\n",
       "      'uuid': '53598193e4b0031b2f4a073e',\n",
       "      'id': '1189',\n",
       "      'title': 'Toxicity in Stream-Dwelling Amphibians',\n",
       "      'abstract': ' Description of Work  USEPA Region 5 previously funded a study in 2011 evaluating the toxicity of nitrogen compounds to a select number of pond-dwelling amphibians. The objective of this new study will be to determine the toxicity of nitrogen compounds to stream-dwelling amphibians. Nitrogen contamination in aquatic systems results from the decomposition of organic matter, as well as through agricultural inputs, sewage effluents and industrial activities. Nitrogen in its various forms is of ecological concern because of its ubiquitous distribution and toxicity to aquatic life. Nitrogen compounds pose a hazard to aquatic larval stages of amphibians, affecting survival and development, and inducing deformities and behavioral impairments. Declines in amphibian populations have been correlated with the prevalence of nitrogen-based fertilizer applications. Chronic toxicity studies conducted with ammonia determined that deformities and delayed development of R. pipiens, B. americanus, and R. clamitans resulted from chronic exposures conducted over the course of larval development to metamorphosis. Uncertainties posed by that study arose from inconsistent dosing as well as high control mortality. Limited testing suggests that water quality criteria for ammonia are likely to be protective of amphibians, yet limited information about the effects of exposure to stream dwelling amphibians and the consequences of sublethal injuries precludes verification. <br /> &nbsp;',\n",
       "      'keyword': 'Amphibians Toxicity Major ion Great Lakes Restoration Initiative GLRI Toxic Substances Uploaded in Batch Template 147 Great Lakes Restoration Initiative',\n",
       "      'link': ' https://www.sciencebase.gov/catalog/item/53598193e4b0031b2f4a073e  http://cida.usgs.gov/glri/#/Browse/fats/53598193e4b0031b2f4a073e',\n",
       "      'responsibleParty': 'Edward E LittleSupv Research Biologist57387618964200 New Haven RoadColumbiaMO65201USelittle@usgs.govhttps://www.sciencebase.gov/directory/person/6175 Rip S ShivelyCenter Director57387618964200 New Haven RoadColumbiaMO65201USrsshively@usgs.govhttps://www.sciencebase.gov/directory/person/9423 Columbia Environmental Research Center4200 New Haven RoadColumbiaMO65201USAhttps://www.sciencebase.gov/directory/organization/17335',\n",
       "      'metadatacreationdate': '2014-12-04T22:34:20Z',\n",
       "      'geoBox': '-93.28344726 -75.52954101 40.86835632 49.25750104',\n",
       "      'image': None,\n",
       "      'LegalConstraints': None,\n",
       "      'temporalExtent': None,\n",
       "      'parentId': None,\n",
       "      'datasetcreationdate': None,\n",
       "      'Constraints': None,\n",
       "      'SecurityConstraints': None}}},\n",
       "   {'_index': 'metadata',\n",
       "    '_type': 'record',\n",
       "    '_id': 'c-J4DGkBjyVARiGt5y-7',\n",
       "    '_score': 1.0,\n",
       "    '_source': {'index': 'metadata',\n",
       "     'doc_type': 'record',\n",
       "     'doc': {'schema': ' iso19139',\n",
       "      'uuid': '54514394e4b0f97badbcf4a3',\n",
       "      'id': '1266',\n",
       "      'title': 'Developing and Implementing Predictive Models for Estimating Recreational Water Quality at Great Lakes Beaches in new York State',\n",
       "      'abstract': ' Description of Work  Predictive models have been used at beaches to improve the timeliness and accuracy of recreational water-quality assessments over the most common current approach to water-quality monitoring, which relies on culturing fecal-indicator bacteria such as Escherichia coli (E. coli.) <br /> &nbsp;',\n",
       "      'keyword': 'GLRI Assessment Human health Great Lakes Restoration Initiative beach health E.coli regression Nearshore Health Lake Watershed Channel Lake:Lake Ontario Watershed:Lake Ontario Basin Channel:Niagara Channel Great Lakes Restoration Initiative',\n",
       "      'link': ' https://www.sciencebase.gov/catalog/item/54514394e4b0f97badbcf4a3  http://cida.usgs.gov/glri/#/Browse/fanh/54514394e4b0f97badbcf4a3  https://www.sciencebase.gov/catalogMaps/mapping/ows/54514394e4b0f97badbcf4a3?mode=download&request=kml&service=wms&layers=footprint  javascript:addWMSLayer([[\\\\\"ScienceBase WMS Service\\\\\",\\\\\"https://www.sciencebase.gov/catalogMaps/mapping/ows/54514394e4b0f97badbcf4a3?service=wms&request=getcapabilities&version=1.3.0\\\\\", \\\\\"ScienceBase WMS Service\\\\\",\\\\\"1266\\\\\"]]) /metadata/srv/eng/google.kml?uuid=54514394e4b0f97badbcf4a3&layers=ScienceBase WMS Service  https://www.sciencebase.gov/catalog/oai-pmh?verb=ListRecords&metadataPrefix=fgdc-orig&set=54514394e4b0f97badbcf4a3  https://www.sciencebase.gov/catalog/item/54514394e4b0f97badbcf4a3/csw?service=CSW&version=2.0.2&request=GetRecords  https://www.sciencebase.gov/catalog/file/get/54514394e4b0f97badbcf4a3',\n",
       "      'responsibleParty': 'Brett A HayhurstHydrologic Technician60726602173003607266052130 Brown RoadIthacaNY14850USbhayhurs@usgs.govhttps://www.sciencebase.gov/directory/person/4362 Edward F BugliosiChief NY Water Science Center - Ithaca60726602173005607266052130 Brown RoadIthacaNY14850ebuglios@usgs.govhttps://www.sciencebase.gov/directory/person/1331 Ithaca Office, NY Water Science Center30 Brown RoadIthacaNY14850USAhttps://www.sciencebase.gov/directory/organization/17213 Charlie Knauf Gale R. Burstein Monroe County Department of Health Environmental Health Division Erie County Department of Health Environmental Health Division',\n",
       "      'metadatacreationdate': '2015-02-19T17:52:53Z',\n",
       "      'geoBox': '-80.2054823494 -74.5208876319 41.8490028468 45.366483853',\n",
       "      'image': 'https://www.sciencebase.gov/catalogMaps/mapping/ows/54514394e4b0f97badbcf4a3?service=wms&request=getMap&version=1.1.1&width=200&height=200&transparent=true&layers=children&format=image/png&styles=&srs=EPSG:4326&&bbox=-80.2054823493627,41.8490028468181,-74.5208876318951,45.3664838529794',\n",
       "      'LegalConstraints': None,\n",
       "      'temporalExtent': None,\n",
       "      'parentId': None,\n",
       "      'datasetcreationdate': None,\n",
       "      'Constraints': None,\n",
       "      'SecurityConstraints': None}}},\n",
       "   {'_index': 'metadata',\n",
       "    '_type': 'record',\n",
       "    '_id': 'deJ4DGkBjyVARiGt5y-7',\n",
       "    '_score': 1.0,\n",
       "    '_source': {'index': 'metadata',\n",
       "     'doc_type': 'record',\n",
       "     'doc': {'schema': ' iso19139',\n",
       "      'uuid': '5274c67de4b089748f071324',\n",
       "      'id': '1236',\n",
       "      'title': 'Coastal processes influencing water quality at Great Lakes beaches',\n",
       "      'abstract': 'In a series of studies along the Great Lakes, U.S. Geological Survey scientists are examining the physical processes that influence concentrations of fecal indicator bacteria and related pathogens at recreational beaches. These studies aim to estimate human health risk, improve management strategies, and understand the fate and transport of microbes in the nearshore area. It was determined that embayed beaches act as traps, accumulating <i>Escherichia coli (E. coli)</i> and other bacteria in the basin and even in beach sand. Further, shear stress and wave run-up could resuspend accumulated bacteria, leading to water-contamination events. These findings are being used to target beach design and circulation projects. In previous research, it was determined that <i>E. coli</i> followed a diurnal pattern, with concentrations decreasing throughout the day, largely owing to solar inactivation, but rebounding overnight. Studies at a Chicago beach identified the impact of wave-induced mass transport on this phenomenon, a finding that will extend our understanding of bacterial fate in the natural environment. In another series of studies, scientists examined the impact of river outfalls on bacteria concentrations, using mechanistic and empirical modeling. Through these studies, the models can indicate range and extent of impact, given <i>E. coli</i> concentration in the source water. These findings have been extended to extended lengths of coastlines and have been applied in beach management using empirical predictive modeling. Together, these studies are helping scientists identify and eliminate threats to human and coastal health.',\n",
       "      'keyword': 'Fact Sheet',\n",
       "      'link': ' https://www.sciencebase.gov/catalog/item/5274c67de4b089748f071324  http://pubs.er.usgs.gov/publication/fs20133070  https://pubs.usgs.gov/fs/2013/3070/pdf/fs2013-3070.pdf  https://www.sciencebase.gov/catalog/file/get/5274c67de4b089748f071324',\n",
       "      'responsibleParty': 'U.S. Geological Survey U.S. Geological Survey',\n",
       "      'metadatacreationdate': '2018-07-12T06:22:56Z',\n",
       "      'geoBox': None,\n",
       "      'image': None,\n",
       "      'LegalConstraints': None,\n",
       "      'temporalExtent': None,\n",
       "      'parentId': None,\n",
       "      'datasetcreationdate': None,\n",
       "      'Constraints': None,\n",
       "      'SecurityConstraints': None}}},\n",
       "   {'_index': 'metadata',\n",
       "    '_type': 'record',\n",
       "    '_id': 'duJ4DGkBjyVARiGt5y-7',\n",
       "    '_score': 1.0,\n",
       "    '_source': {'index': 'metadata',\n",
       "     'doc_type': 'record',\n",
       "     'doc': {'schema': ' iso19139',\n",
       "      'uuid': '555ef3a1e4b0a92fa7eb9664',\n",
       "      'id': '1239',\n",
       "      'title': 'Tools for discovering and accessing Great Lakes scientific data',\n",
       "      'abstract': ' The Great Lakes Restoration Initiative (GLRI) is a multidisciplinary and interagency effort focused on the protection and restoration of the Great Lakes (GL) using the best available science and applying lessons learned from previous studies. The U.S. Geological Survey (USGS) contributes to the GLRI effort by providing resource managers with information and tools needed to meet restoration goals. This includes contributing scientific expertise and delivering findings to the GL community through meaningful information products.   One of the strengths of the GLRI is its interagency approach; however, this can create challenges when coordinating the large number of restoration activities being performed by GL governments, tribes, academics, nonprofits, and industry. There is a vast array of data being produced by both the USGS and its partners, and it is crucial that scientists, managers, policymakers, and the public can easily locate the biological, geological, geospatial, and water-resources data being generated.   The USGS strives to develop data products that are easy to find, easy to understand, and easy to use through Web-accessible tools that allow users to learn about the breadth and scope of GLRI activities being undertaken by the USGS and its partners. By creating tools that enable data to be shared and reused more easily, the USGS can encourage collaboration and assist the GL community in finding, interpreting, and understanding the information created during GLRI science activities. ',\n",
       "      'keyword': 'Fact Sheet',\n",
       "      'link': ' https://www.sciencebase.gov/catalog/item/555ef3a1e4b0a92fa7eb9664  http://pubs.er.usgs.gov/publication/fs20153040  https://pubs.usgs.gov/fs/2015/3040/pdf/fs2015-3040.pdf  https://www.sciencebase.gov/catalog/file/get/555ef3a1e4b0a92fa7eb9664',\n",
       "      'responsibleParty': 'Jessica M. Lucidojlucido@usgs.gov Jennifer L. Brucejlbruce@usgs.gov U.S. Geological Survey',\n",
       "      'metadatacreationdate': '2018-07-12T05:51:20Z',\n",
       "      'geoBox': None,\n",
       "      'image': None,\n",
       "      'LegalConstraints': None,\n",
       "      'temporalExtent': None,\n",
       "      'parentId': None,\n",
       "      'datasetcreationdate': None,\n",
       "      'Constraints': None,\n",
       "      'SecurityConstraints': None}}},\n",
       "   {'_index': 'metadata',\n",
       "    '_type': 'record',\n",
       "    '_id': 'eeJ4DGkBjyVARiGt5y-7',\n",
       "    '_score': 1.0,\n",
       "    '_source': {'index': 'metadata',\n",
       "     'doc_type': 'record',\n",
       "     'doc': {'schema': ' iso19139',\n",
       "      'uuid': '53598192e4b0031b2f4a0738',\n",
       "      'id': '1316',\n",
       "      'title': 'Microcosms to Evaluate Elevated Major Ions',\n",
       "      'abstract': ' Description of Work  Elevated concentrations of major ions are associated with a variety of discharges to aquatic ecosystems, including urban wastewater, mountain top removal and valley fill operations, and coal bed methane production. There is considerable uncertainty regarding the toxicity of major ions to aquatic organisms, particularly given the variability of constituents that comprise these effluents. Because the relative toxicity of major ions is highly variable, predicting effects based on conductivity, total dissolved solids (TDS) or other composite measures may be simplistic. Furthermore, most of the available information on sensitivity of aquatic organisms to major ions has been derived from short-term laboratory toxicity tests conducted with surrogate species. There is relatively little information on the sensitivity of aquatic insects to elevated major ions. Field studies showed that abundance of mayflies (Ephemeroptera) was significantly lower in streams receiving elevated TDS associated with mountaintop removal and valley fill operations. Based on an extensive survey of central Appalachian streams, the U.S. EPA developed a benchmark for conductivity in areas affected by mountain top and valley fill operations. However, these analyses have been criticized because of the lack of experimental evidence showing that mayflies and other macroinvertebrates are sensitive to elevated major ions. These experiments will test the hypothesis that elevated levels of major ions will negatively impact benthic macroinvertebrate communities. Experiments will be conducted in stream microcosms to quantify responses of different groups of macroinvertebrates to elevated levels of major ions. The specific ions used in our experiments will be determined after consultation with EPA and USGS researchers. <br /> &nbsp;',\n",
       "      'keyword': 'Major ion Invertebrate Mesocosom Great Lakes Restoration Initiative GLRI Toxic Substances Uploaded in Batch Template 147 Great Lakes Restoration Initiative',\n",
       "      'link': ' https://www.sciencebase.gov/catalog/item/53598192e4b0031b2f4a0738  http://cida.usgs.gov/glri/#/Browse/fats/53598192e4b0031b2f4a0738',\n",
       "      'responsibleParty': 'Christopher G IngersollSupv Research Fish Biologist57387618964200 New Haven RoadColumbiaMO65201UScingersoll@usgs.govhttps://www.sciencebase.gov/directory/person/4904 Rip S ShivelyCenter Director57387618964200 New Haven RoadColumbiaMO65201USrsshively@usgs.govhttps://www.sciencebase.gov/directory/person/9423 William H Clementshttps://www.sciencebase.gov/directory/person/50836 Columbia Environmental Research Center4200 New Haven RoadColumbiaMO65201USAhttps://www.sciencebase.gov/directory/organization/17335',\n",
       "      'metadatacreationdate': '2014-12-04T22:34:19Z',\n",
       "      'geoBox': '-93.28344726 -75.52954101 40.86835632 49.25750104',\n",
       "      'image': None,\n",
       "      'LegalConstraints': None,\n",
       "      'temporalExtent': None,\n",
       "      'parentId': None,\n",
       "      'datasetcreationdate': None,\n",
       "      'Constraints': None,\n",
       "      'SecurityConstraints': None}}},\n",
       "   {'_index': 'metadata',\n",
       "    '_type': 'record',\n",
       "    '_id': 'fuJ4DGkBjyVARiGt5y-7',\n",
       "    '_score': 1.0,\n",
       "    '_source': {'index': 'metadata',\n",
       "     'doc_type': 'record',\n",
       "     'doc': {'schema': ' iso19139',\n",
       "      'uuid': '539773f8e4b0f7580bc0b420',\n",
       "      'id': '1298',\n",
       "      'title': 'Avian Botulism in Distressed Great Lakes Environments',\n",
       "      'abstract': ' Description of Work  A Department of Interior team, including U.S. Geological Survey (USGS), Fish and Wildlife Service (FWS), and National Park Service (NPS), is working to determine why botulism outbreaks, which have killed large numbers of fish and fish-eating birds, are occurring in the Great Lakes. This project will determine: 1) a quick assay test for the presence of the toxin , 2) how birds are exposed to the toxins, and 3) what factors combined trigger an outbreak. This information will be used to formulate management strategies. Botulism intoxication is caused by ingestion of neurotoxins produced by the bacterium Clostridium botulinum. Periodic outbreaks of type E botulism have resulted in die-offs of fish and fish-eating birds in the Great Lakes since at least the 1960s, but outbreaks have become more common and widespread since 1999. Botulism has been responsible for over 100,000 bird deaths on the Great Lakes since 1999, and extensive bird mortality in northern Lake Michigan near Sleeping Bear Dunes National Lakeshore (SLBE; over 4150 birds in 2007) received widespread press attention and caused great public concern. The actual sites of toxin exposure for birds remain unknown. Spores of C. botulinum are naturally widely distributed in the environment, but toxin production occurs only when suitable environmental conditions allow spore germination and cell growth, and this may be related to local soil and water conditions. The physical and ecological factors that are associated with toxin production, waterbird exposure, and botulism outbreaks are poorly understood in the Great Lakes, as in other environments. Invasive species, particularly dreissenid mussels Dreissena spp. and round gobies Neogobius melanostomus, have been implicated in the recent increased occurrence of botulism mortality in Great Lakes fish and birds, but this has not been proven. Dreissenid mussels may enhance nearshore algal growth, and decomposing algae may help create the anoxic conditions required for C. botulinum germination. We hypothesize that recent increases in the incidence of type E avian botulism outbreaks in the Great Lakes may be associated with the presence of large amounts of decomposing sloughed Cladophora. We propose to determine the presence or absence of C. botulinum and type E botulinum toxin in sediments. In FY 2013, targeted sampling sites will be chosen in northern Lake Michigan near SLBE to represent sites that support varying amounts of sloughed Cladophora at a range of depths throughout the season.We further propose to use population surveys to assess waterbird distribution, with emphasis on species historically impacted by type E botulism (e.g., Common Loon Gavia immer), to examine the spatial relationships between bird distribution and carcass detection of confirmed botulism mortalities, and to analyze the relation between botulism in birds and environmental conditions at locations where toxin exposure is likely to occur.<br> &nbsp;  Relevance &amp; Impact  Botulinum toxin is the most toxic natural substance on earth. Botulism has resulted in the deaths of tens of thousands of fish and birds in the Great Lakes since 1999, including federally endangered Piping Plovers and imperiled lake sturgeon. The proliferation of botulism in the Great Lakes represents a serious challenge to Great Lakes restoration efforts. Through this GLRI-funded project, the USGS is bringing together scientists with diverse areas of expertise to address botulism outbreaks in the Great Lakes. This team of experts is taking a comprehensive approach to understanding what factors need to link together to trigger a botulism outbreak, and how future outbreaks can be predicted and prevented in the Great Lakes. Scientists are developing methods to detect the presence of botulinum toxin in the environment and determining how the botulinum toxin reaches bird populations through Great Lakes food webs.<br> &nbsp;  Key Findings  GLRI funding is now allowing USGS scientists to make breakthroughs in the prediction and prevention of botulism outbreaks. Scientists have developed and are refining a rapid and cost-effective methodology to detect botulinum toxin. This technology is an important tool that will make assessment of the presence of botulinum toxin much more efficient in the Great Lakes. This technology will also have valuable applications to other systems. This GLRI project is providing critical information toward understanding the factors that promote the proliferation of botulinum toxin in the Great Lakes. The information that this project is generating allows managers to better predict future outbreaks and, ultimately, will allow managers to develop strategies to prevent future outbreaks from occurring, providing great benefits to restoration efforts for the Great Lakes.<br> <br> Sediment samples were collected during 2010-2012 near Sleeping Bear Dunes National Lakeshore, on Lake Michigan. A total of 435 samples were analyzed for the presence of the botulinum toxin gene. Results from this analysis are used to understand the ways through which birds come into contact with botulinum toxin. A new method to detect botulinum toxin has been developed that performs as well as the “gold-standard” traditional method. The new method is faster and cheaper than the traditional method, and is a major step forward in the study of botulism. Scientists have learned that avian botulism is the main cause of bird mortality in Lake Michigan. Over 950 sick or dead birds have been collected through this project. Seventy-six birds have been tested for botulinum toxin, of which 42 were positive (55% positive). The distribution and migration of over 175 Common Loons have been tracked to reveal where loons are likely to be exposed to prey fish carrying botulinum toxin.<br> &nbsp;  Products  Scientists obtained the first ever <strong>dive profiles</strong> for loons and have learned that loons dive as deep as 150 feet to feed in Lake Michigan.<br> <br> You can track movements of loons by visiting the USGS loon migration <strong>website</strong>: ( <a href=\\\\\"http://www.umesc.usgs.gov/terrestrial/migratory_birds/loons/migrations.html\\\\\">http://www.umesc.usgs.gov/terrestrial/migratory_birds/loons/migrations.html</a>)<br> <br> A <strong>citizen science program</strong> (Lake Michigan Volunteer AMBLE: Avian Monitoring for Botulism Lakeshore Events) was established to collect data on bird carcasses that wash ashore near Sleeping Bear Dunes and the Upper Peninsula of Michigan, and across the lake in Door County, Wisconsin. This team effort has considerably increased our knowledge of the timing, numbers, and species affected by avian botulism.<br> &nbsp;',\n",
       "      'keyword': 'Great Lakes Restoration Initiative botulism nearshore loon highlight GLRI Habitat & Wildlife Template 73 Great Lakes Restoration Initiative',\n",
       "      'link': ' https://www.sciencebase.gov/catalog/item/539773f8e4b0f7580bc0b420  http://cida.usgs.gov/glri/#/Browse/fahw/539773f8e4b0f7580bc0b420  http://www.umesc.usgs.gov/terrestrial/migratory_birds/loons/migrations.html  http://www.glsc.usgs.gov/sites/default/files/infosheets/GLRI732013AvianBotulism20130912.pdf  https://www.sciencebase.gov/catalog/oai-pmh?verb=ListRecords&metadataPrefix=fgdc-orig&set=539773f8e4b0f7580bc0b420  https://www.sciencebase.gov/catalog/item/539773f8e4b0f7580bc0b420/csw?service=CSW&version=2.0.2&request=GetRecords',\n",
       "      'responsibleParty': 'Stephen RileyResearch Fisheries Biologist73499487801451 Green RdAnn ArborMI48105USsriley@usgs.govhttps://www.sciencebase.gov/directory/person/8634 Jonathan M SleemanCenter Director60827024156006 Schroeder RoadMadisonWI53711USjsleeman@usgs.govhttps://www.sciencebase.gov/directory/person/14176 Great Lakes Science Center1451 Green RdAnn ArborMI48105USAhttps://www.sciencebase.gov/directory/organization/17264',\n",
       "      'metadatacreationdate': '2016-10-07T20:07:56Z',\n",
       "      'geoBox': None,\n",
       "      'image': None,\n",
       "      'LegalConstraints': None,\n",
       "      'temporalExtent': None,\n",
       "      'parentId': None,\n",
       "      'datasetcreationdate': None,\n",
       "      'Constraints': None,\n",
       "      'SecurityConstraints': None}}}]}}"
      ]
     },
     "execution_count": 45,
     "metadata": {},
     "output_type": "execute_result"
    }
   ],
   "source": [
    "es_conn.search(index = 'metadata')"
   ]
  },
  {
   "cell_type": "code",
   "execution_count": 37,
   "metadata": {},
   "outputs": [
    {
     "data": {
      "text/plain": [
       "{'took': 1,\n",
       " 'timed_out': False,\n",
       " '_shards': {'total': 5, 'successful': 5, 'skipped': 0, 'failed': 0},\n",
       " 'hits': {'total': 0, 'max_score': None, 'hits': []}}"
      ]
     },
     "execution_count": 37,
     "metadata": {},
     "output_type": "execute_result"
    }
   ],
   "source": [
    "es_conn.search(index=\"metadata\", body={\"query\": \n",
    "{\"multi_match\": \n",
    "{'query': 'Milwaukee', \n",
    "'fields': ['schema', 'uuid', 'id', 'title', 'abstract', 'keyword', 'geoBox', 'image', 'responsibleParty', 'link', 'LegalConstraints']}}})"
   ]
  },
  {
   "cell_type": "code",
   "execution_count": 50,
   "metadata": {},
   "outputs": [
    {
     "data": {
      "text/plain": [
       "{'took': 1,\n",
       " 'timed_out': False,\n",
       " '_shards': {'total': 5, 'successful': 5, 'skipped': 0, 'failed': 0},\n",
       " 'hits': {'total': 0, 'max_score': None, 'hits': []}}"
      ]
     },
     "execution_count": 50,
     "metadata": {},
     "output_type": "execute_result"
    }
   ],
   "source": [
    "es_conn.search(index = 'metadata', doc_type = 'record', body = {\"query\" : {\"match\" : {\"keyword\": \"shore\"}}})"
   ]
  },
  {
   "cell_type": "code",
   "execution_count": null,
   "metadata": {},
   "outputs": [],
   "source": []
  }
 ],
 "metadata": {
  "kernelspec": {
   "display_name": "Python 3",
   "language": "python",
   "name": "python3"
  },
  "language_info": {
   "codemirror_mode": {
    "name": "ipython",
    "version": 3
   },
   "file_extension": ".py",
   "mimetype": "text/x-python",
   "name": "python",
   "nbconvert_exporter": "python",
   "pygments_lexer": "ipython3",
   "version": "3.6.6"
  }
 },
 "nbformat": 4,
 "nbformat_minor": 2
}
