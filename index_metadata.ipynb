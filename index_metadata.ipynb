{
 "cells": [
  {
   "cell_type": "code",
   "execution_count": 30,
   "metadata": {},
   "outputs": [],
   "source": [
    "from elasticsearch import Elasticsearch\n",
    "from elasticsearch.helpers import bulk, streaming_bulk\n",
    "import json\n",
    "import math\n",
    "import numbers\n",
    "import pandas as pd"
   ]
  },
  {
   "cell_type": "code",
   "execution_count": 31,
   "metadata": {},
   "outputs": [],
   "source": [
    "host_url = ['http://127.0.0.1:9200']"
   ]
  },
  {
   "cell_type": "code",
   "execution_count": 32,
   "metadata": {},
   "outputs": [],
   "source": [
    "es_conn = Elasticsearch(host_url)"
   ]
  },
  {
   "cell_type": "code",
   "execution_count": 70,
   "metadata": {},
   "outputs": [],
   "source": [
    "def sanitize(value):\n",
    "    if isinstance(value, numbers.Number) and math.isnan(value):\n",
    "        return None\n",
    "    else:\n",
    "        return value\n",
    "\n",
    "def parse_metadata(metadata_df):\n",
    "    for index, row in metadata_df.iterrows():\n",
    "        yield json.dumps({'schema' : sanitize(row[0]),\n",
    "        'uuid' : sanitize(row[1]), \n",
    "        'id' : sanitize(row[2]), \n",
    "        'title' : sanitize(row[3]), \n",
    "        'abstract' : sanitize(row[4]), \n",
    "        'keyword' : sanitize(row[5]),\n",
    "        'link' : sanitize(row[6]),\n",
    "        'responsibleParty' : sanitize(row[7]),\n",
    "        'metadatacreationdate' : sanitize(row[8]),\n",
    "        'geoBox' : sanitize(row[9]),\n",
    "        'image' : sanitize(row[10]),\n",
    "        'LegalConstraints' : sanitize(row[11]),\n",
    "        'temporalExtent' : sanitize(row[12]),\n",
    "        'parentId' : sanitize(row[13]),\n",
    "        'datasetcreationdate' : sanitize(row[14]),\n",
    "        'Constraints' : sanitize(row[15]),\n",
    "        'SecurityConstraints' : sanitize(row[16])\n",
    "              }, \n",
    "        allow_nan = False)"
   ]
  },
  {
   "cell_type": "code",
   "execution_count": 71,
   "metadata": {},
   "outputs": [],
   "source": [
    "df = pd.read_csv('clean_metadata.csv')"
   ]
  },
  {
   "cell_type": "code",
   "execution_count": 54,
   "metadata": {},
   "outputs": [
    {
     "data": {
      "text/plain": [
       "(864, [])"
      ]
     },
     "execution_count": 54,
     "metadata": {},
     "output_type": "execute_result"
    }
   ],
   "source": [
    "##Should only be run once for \n",
    "bulk(es_conn, parse_metadata(df), index = 'metadata', doc_type = 'record')"
   ]
  },
  {
   "cell_type": "code",
   "execution_count": 59,
   "metadata": {},
   "outputs": [
    {
     "name": "stdout",
     "output_type": "stream",
     "text": [
      "864 documents in index\n"
     ]
    }
   ],
   "source": [
    "print (es_conn.count(index='metadata')['count'], 'documents in index')"
   ]
  },
  {
   "cell_type": "code",
   "execution_count": 56,
   "metadata": {},
   "outputs": [
    {
     "data": {
      "text/plain": [
       "{'took': 3,\n",
       " 'timed_out': False,\n",
       " '_shards': {'total': 5, 'successful': 5, 'skipped': 0, 'failed': 0},\n",
       " 'hits': {'total': 7,\n",
       "  'max_score': 7.421124,\n",
       "  'hits': [{'_index': 'metadata',\n",
       "    '_type': 'record',\n",
       "    '_id': 'PugUF2kB3T1IAmSeHoqf',\n",
       "    '_score': 7.421124,\n",
       "    '_source': {'schema': ' iso19139',\n",
       "     'uuid': '8e94fefa-ba6b-44eb-b843-6968bc67ba39',\n",
       "     'id': '1394',\n",
       "     'title': 'Milwaukee Buoy ATW10 (45182) [out of the water for the season]',\n",
       "     'abstract': 'The University of Wisconsin-Milwaukee School of Freshwater Sciences operates a monitoring buoy just north of Milwaukee off of Atwater Beach.  Approximately 1 km offshore, in 10 meters of water, the buoy provides real-time water quality and meteorological data.  The buoy has a unique CO2 sampling system that provides a measure of primary production in the near-shore zone.',\n",
       "     'keyword': 'WindDirection WindSpeed Wind Gust AirTemperature WaterTemperature Relative Humidity Significant Wave Period Significant Wave Height Air Pressure BarometricPressure ysi_chlorophyll ysi_turbidity ph water_conductivity dissolved_oxygen dissolved_oxygen_concentration wind from direction wind speed air pressure dew point significant wave period water temperature - surface wind gust thermistor ATW10 GLOS buoys observations atmospheric pressure wind speed/direction air temperature dew point temperature significant wave height wave period water temperature Lake Michigan Atwater Park WI Great Lakes water quality buoy chlorophyll turbidity pH conductivity Milwaukee UWM SFS School of Freshwater Sciences Atwater Beach meteorology CO2 monitoring 45182 Atwater 10m atmospheric pressure air temperature dew point temperature wave period water temperature wind speed/direction wave height Longitude -87.864444 Latitude 43.096517 Lake Michigan Atwater Park, WI Great Lakes Milwaukee observationsBuoys climatology temperature',\n",
       "     'link': ' http://uwm.edu/glos/glos-buoys/first-page/  http://data.glos.us/portal/getObsByPlatform.php?provider=glos&platform=45182  http://data.glos.us/metadata?uuid=8e94fefa-ba6b-44eb-b843-6968bc67ba39',\n",
       "     'responsibleParty': 'Jeff HoughtonUniversity of Wisconsin-MilwaukeeResearch Technician715-321-0352600 East Greenfield Ave.MilwaukeeWI53204houghtoj@uwm.edu Jeff HoughtonUniversity of Wisconsin-MilwaukeeResearch Technicianhoughtonj@uwm.edu',\n",
       "     'metadatacreationdate': '2018-06-06T14:55:58',\n",
       "     'geoBox': '-87.86444 -87.86444 43.09651 43.09651',\n",
       "     'image': None,\n",
       "     'LegalConstraints': None,\n",
       "     'temporalExtent': '2011-06-09T00:00:00',\n",
       "     'parentId': None,\n",
       "     'datasetcreationdate': None,\n",
       "     'Constraints': None,\n",
       "     'SecurityConstraints': None}},\n",
       "   {'_index': 'metadata',\n",
       "    '_type': 'record',\n",
       "    '_id': 'QegUF2kB3T1IAmSeHYg5',\n",
       "    '_score': 6.1375804,\n",
       "    '_source': {'schema': ' iso19139',\n",
       "     'uuid': '8c9e495e-8b2d-4a99-a37a-f94ffe483bf6',\n",
       "     'id': '495',\n",
       "     'title': 'South Michigan buoy (45007)',\n",
       "     'abstract': '3-meter foam buoy, AMPS payload, located 43NM East Southeast of Milwaukee, WI, owned and maintained by National Data Buoy Center.',\n",
       "     'keyword': 'air temperature significant wave height significant wave period water temperature - surface wind speed wind from direction Longitude -87.026 Latitude 42.674 Lake Michigan Milwaukee, WI NDBC ID 45007',\n",
       "     'link': ' http://glbuoys.glos.us/45007  http://www.ndbc.noaa.gov/station_page.php?station=45007',\n",
       "     'responsibleParty': 'National Data Buoy Center (NDBC)Bldg. 3205Stennis Space CenterMS39529United Stateshttp://www.ndbc.noaa.gov/contact_us.shtmlhttp://www.ndbc.noaa.gov Kelli PaigeGreat Lakes Observing System Regional AssociationProgram Coordinator734-332-6113734.332.6120229 Nickels ArcadeAnn ArborMI48104USAkpaige@glos.ujs Kelli PaigeGreat Lakes Observing System Regional AssociationProgram Ccordinator734-332-6113734.332.6120229 Nickels ArcadeAnn ArborMI48104USAkpaige@glos.us',\n",
       "     'metadatacreationdate': '2018-04-10T14:36:29',\n",
       "     'geoBox': '-87.02600000000001 -87.02600000000001 42.674 42.674',\n",
       "     'image': 'http://data.glos.us:80/metadata/srv/eng/resources.get?uuid=8c9e495e-8b2d-4a99-a37a-f94ffe483bf6&fname=45007_s.png###http://data.glos.us:80/metadata/srv/eng/resources.get?uuid=8c9e495e-8b2d-4a99-a37a-f94ffe483bf6&fname=45007.png',\n",
       "     'LegalConstraints': None,\n",
       "     'temporalExtent': '2009-08-04T00:00:00',\n",
       "     'parentId': None,\n",
       "     'datasetcreationdate': None,\n",
       "     'Constraints': None,\n",
       "     'SecurityConstraints': None}},\n",
       "   {'_index': 'metadata',\n",
       "    '_type': 'record',\n",
       "    '_id': 'vegUF2kB3T1IAmSeHYc4',\n",
       "    '_score': 5.3681707,\n",
       "    '_source': {'schema': ' iso19139',\n",
       "     'uuid': '58868292e4b0cad700058d87',\n",
       "     'id': '1196',\n",
       "     'title': 'Sediment Toxicity to Benthic Communities',\n",
       "     'abstract': \" Description of Work  At two of Wisconsin's Areas of Concern (AOCs) on Lake Michigan, the Sheboygan River AOC and Milwaukee Estuary AOC, the USGS will assess whether sediment toxicity from PCBs, PAHs, selected metals, ammonia, or dissolved oxygen is present at acutely toxic or chronically toxic concentrations using sediment toxicity tests conducted with amphipods and midges. Study planning and literature search have been completed. Sediment was collected in October 2016 from sites in the two AOCs and sites in two non-AOC comparison sites. Assesments will be done at two additional sites: Kewaunee River and Oak Creek. Laboratory toxicity tests and chemical analyses are in progress, including sediment toxicity testing and some chemical testing at the USGS Columbia Environmental Research Center. Upon receipt and acceptance of all data in 2017, we will complete data analyses and complete a first draft of the interpretive report.  Goals &amp; Objectives  The goal of the study is to provide data on potential sediment toxicity to benthos and inform management decisions regarding possible removal of the “Degraded Benthos” beneficial use impairment (BUI) at the Sheboygan River AOC and the Milwaukee Estuary AOC. The objectives of the study are to: (1) Characterize sediment toxicity and relationships between toxicity and contaminant concentrations, and (2) Compare results to previous studies of sediment contamination, sediment toxicity, and benthic communities. This study addresses Focus Area 1—Toxic Substances and Areas of Concern, specifically the Areas of Concern portion of that focus area, in the Draft Great Lakes Restoration Initiative (GLRI) Action Plan II for FY15-19. It also fits into the USGS AOC Science Theme. This project has direct relevance to GLRI Objective 1 by providing data and interpretation toward Area of Concern Beneficial Use Impairments Removal, as an Action Plan Measure of Progress. A toxicity assessment of the river adjacent to the arsenic-contaminated area of the Kewaunee marsh will help the Wisconsin DNR to determine whether habitat remediation is needed in the river or whether efforts can focus on the marsh. An assessment of sediment toxicity in Oak Creek will provide the Wisconsin DNR with information to support efforts for aquatic habitat remediation in this important Milwaukee area watershed of Lake Michigan. The study addresses Focus Area 4–Habitat and Wildlife Protection and Restoration.  Products  Results for the AOCs (Sheboygan River and Milwaukee Estuary) and comparison non-AOCs (Manitowoc River and Root River) would be submitted as an interpretive report to a journal for publication. Upon review and acceptance, all data will be made publicly available on the web.\",\n",
       "     'keyword': 'Toxic Substances Area of Concern benthos sediment toxicity Areas of concern GLRI Beneficial use impairment Watershed:Lake Michigan Basin Template 685 Has Spatial Short term (2 to 5 years) Great Lakes Restoration Initiative beikenberry@usgs.gov',\n",
       "     'link': ' https://www.sciencebase.gov/catalog/item/58868292e4b0cad700058d87',\n",
       "     'responsibleParty': 'Barbara Scudder Eikenberrybeikenberry@usgs.gov John Walkerjfwalker@usgs.gov',\n",
       "     'metadatacreationdate': '2017-01-27T14:45:51Z',\n",
       "     'geoBox': None,\n",
       "     'image': None,\n",
       "     'LegalConstraints': None,\n",
       "     'temporalExtent': None,\n",
       "     'parentId': None,\n",
       "     'datasetcreationdate': None,\n",
       "     'Constraints': None,\n",
       "     'SecurityConstraints': None}},\n",
       "   {'_index': 'metadata',\n",
       "    '_type': 'record',\n",
       "    '_id': 'yegUF2kB3T1IAmSeHomf',\n",
       "    '_score': 5.336737,\n",
       "    '_source': {'schema': ' iso19139',\n",
       "     'uuid': 'b851b50f-5cea-4a8c-ad94-b5d789f17695',\n",
       "     'id': '1395',\n",
       "     'title': 'Sleeping Bear Dunes Buoy (45183) [out of the water for the season]',\n",
       "     'abstract': 'The National Parks Service at Sleeping Bear Dunes National Lakeshore (SLBE) in collaboration with the University of Wisconsin-Milwaukee School of Freshwater Sciences operates a water quality and meteorological buoy in Good Harbor Bay, just off shore of SLBE, in Lake Michigan.  The buoy provides real-time water quality and meteorological data as well as a benthic imaging for ongoing research and outreach.',\n",
       "     'keyword': 'wind from direction wind speed air pressure dew point water temperature - surface wind gust 45183 GLOS buoys observations atmospheric pressure wind speed/direction air temperature dew point temperature water temperature Lake Michigan Sleeping Bear Dunes WI Great Lakes UWM SFS School of Freshwater Sciences Good Harbor Bay meteorology atmospheric pressure air temperature dew point temperature wave period water temperature wind speed/direction wave height Latitude 44.981639 Longitude -85.830861 Lake Michigan Great Lakes Sleeping Bear Dunes Good Harbor Bay observationsBuoys climatology temperature water_quality PortalUpload WindDirection WindSpeed AirTemperature Air Pressure WaterTemperature Relative Humidity Solar Radiation Wind Gust',\n",
       "     'link': ' http://uwm.edu/glos/sleeping-bear  http://data.glos.us/portal/getObsByPlatform.php?provider=glos&platform=Sleeping+Bear+Dunes  http://data.glos.us/metadata?uuid=b851b50f-5cea-4a8c-ad94-b5d789f17695',\n",
       "     'responsibleParty': 'Jeff HoughtonUniversity of Wisconsin-MilwaukeeResearch Technician715-321-0352600 East Greenfield Ave.MilwaukeeWI53204houghtoj@uwm.edu Jeff HoughtonUniversity of Wisconsin-MilwaukeeResearch Technicianhoughtonj@uwm.edu',\n",
       "     'metadatacreationdate': '2018-10-09T17:08:52',\n",
       "     'geoBox': '-85.83086 -85.83086 44.98163 44.98163',\n",
       "     'image': None,\n",
       "     'LegalConstraints': None,\n",
       "     'temporalExtent': '2018-06-06',\n",
       "     'parentId': None,\n",
       "     'datasetcreationdate': '2018-06-06',\n",
       "     'Constraints': None,\n",
       "     'SecurityConstraints': None}},\n",
       "   {'_index': 'metadata',\n",
       "    '_type': 'record',\n",
       "    '_id': 'bugUF2kB3T1IAmSeHYc4',\n",
       "    '_score': 5.1783895,\n",
       "    '_source': {'schema': ' iso19139',\n",
       "     'uuid': '53dfe38ee4b058ba4f4d073c',\n",
       "     'id': '1222',\n",
       "     'title': \"Benthos & Plankton in Wisconsin's Lake Michigan AOCs\",\n",
       "     'abstract': \" Description of Work  Benthos (benthic invertebrate) and plankton (phytoplankton/zooplankton) communities in Wisconsin's four Lake Michigan Areas of Concern (AOCs; Menominee River, Lower Green Bay and Fox River, Sheboygan River, and Milwaukee Estuary) and six non-AOCs will be quantified. The inclusion of non-AOC sites will allow comparison of AOC sites to relatively-unimpacted or less-impacted control sites with natural physical and chemical characteristics that are as close as possible to that of the AOCs. The community data within and between the AOCs and non-AOCs will be analyzed. This project is a cooperative agreement between the Wisconsin Department of Natural Resources (WDNR) and the US Geological Survey (USGS). <br /> &nbsp;\",\n",
       "     'keyword': 'GLRI Areas of concern Beneficial use impairment Ecosystem health Great Lakes Restoration Initiative benthos plankton invertebrates phytoplankton AOC Sheboygan River Green Bay Fox River Menominee River Milwaukee Estuary Watershed:Lake Michigan Basin Lake:Lake Michigan Toxic Substances Lake Watershed Great Lakes Restoration Initiative',\n",
       "     'link': ' https://www.sciencebase.gov/catalog/item/53dfe38ee4b058ba4f4d073c  http://cida.usgs.gov/glri/#/Browse/fats/53dfe38ee4b058ba4f4d073c  https://www.sciencebase.gov/catalogMaps/mapping/ows/53dfe38ee4b058ba4f4d073c?mode=download&request=kml&service=wms&layers=footprint  javascript:addWMSLayer([[\\\\\"ScienceBase WMS Service\\\\\",\\\\\"https://www.sciencebase.gov/catalogMaps/mapping/ows/53dfe38ee4b058ba4f4d073c?service=wms&request=getcapabilities&version=1.3.0\\\\\", \\\\\"ScienceBase WMS Service\\\\\",\\\\\"1222\\\\\"]]) /metadata/srv/eng/google.kml?uuid=53dfe38ee4b058ba4f4d073c&layers=ScienceBase WMS Service',\n",
       "     'responsibleParty': 'Barbara C EikenberryHydrologist (Biol)608821383260882138178505 Research WayMiddletonWI53562-0000USbeikenberry@usgs.govhttps://www.sciencebase.gov/directory/person/9261 John F WalkerResearch Hydrologist608821385360882138178505 Research WayMiddletonWI53562-0000USjfwalker@usgs.govhttps://www.sciencebase.gov/directory/person/10864 Daniel J BurnsHydrologic Technician608821388360882138178505 Research WayMiddletonWI53562-0000USdburns@usgs.govhttps://www.sciencebase.gov/directory/person/59889 Amanda H BellHydrologist608821388260882138178505 Research WayMiddletonWI53562-0000USahbell@usgs.govhttps://www.sciencebase.gov/directory/person/678 Hayley A TemplarHydrologic Technician608821388360882138178505 Research WayMiddletonWI53562-0000UShtemplar@usgs.govhttps://www.sciencebase.gov/directory/person/59893 Wisconsin Department of Natural Resources U.S. Environmental Protection Agencyhttps://www.sciencebase.gov/directory/organization/18276',\n",
       "     'metadatacreationdate': '2015-01-30T18:20:00Z',\n",
       "     'geoBox': '-89.7032238974 -83.9198914801 41.274959508 46.7327606087',\n",
       "     'image': None,\n",
       "     'LegalConstraints': None,\n",
       "     'temporalExtent': None,\n",
       "     'parentId': None,\n",
       "     'datasetcreationdate': None,\n",
       "     'Constraints': None,\n",
       "     'SecurityConstraints': None}},\n",
       "   {'_index': 'metadata',\n",
       "    '_type': 'record',\n",
       "    '_id': 'y-gUF2kB3T1IAmSeHomf',\n",
       "    '_score': 4.645646,\n",
       "    '_source': {'schema': ' iso19139',\n",
       "     'uuid': 'd53be051-b4df-454a-a374-b37ba39b23e3',\n",
       "     'id': '288',\n",
       "     'title': 'Milwaukee Buoy ATW20 (45013) [out of the water for the season]',\n",
       "     'abstract': 'University of Wisconsin in-situ buoy near Atwater Park, WI.',\n",
       "     'keyword': 'atmospheric pressure air temperature dew point temperature significant wave height wave period water temperature wind speed/direction air pressure dew point significant wave period water temperature - surface wind speed wind gust wind from direction thermistor NDBC ID 45013 ATW20 GLOS buoys observations atmospheric pressure air temperature dew point temperature significant wave height wave period water temperature wind speed/direction Lake Michigan Atwater Park WI Great Lakes UWM Longitude -87.850 Latitude 43.100 Lake Michigan Atwater Park, WI Great Lakes observationsBuoys climatology temperature WindDirection Significant Wave Period WindSpeed SignificantWaveHeight AirTemperature Air Pressure WaterTemperature Relative Humidity WaterTemperature @   3 ft WaterTemperature @   7 ft WaterTemperature @  10 ft WaterTemperature @  13 ft WaterTemperature @  16 ft WaterTemperature @  20 ft WaterTemperature @  23 ft WaterTemperature @  26 ft WaterTemperature @  30 ft WaterTemperature @  33 ft WaterTemperature @  36 ft WaterTemperature @  39 ft WaterTemperature @  43 ft WaterTemperature @  46 ft WaterTemperature @  49 ft WaterTemperature @  52 ft WaterTemperature @  56 ft WaterTemperature @  59 ft WaterTemperature @  62 ft Wind Gust',\n",
       "     'link': ' http://www.ndbc.noaa.gov/station_page.php?station=45013  http://data.glos.us/portal/getObsByPlatform.php?provider=glos&platform=ATW20  http://data.glos.us/metadata?uuid=d53be051-b4df-454a-a374-b37ba39b23e3',\n",
       "     'responsibleParty': 'Jeff HoughtonUniversity of Wisconsin-Milwaukee715-321-0352600 East Greenfield Ave.MilwaukeeWI53204houghtoj@uwm.edu Jeff HoughtonUniversity of Wisconsin-Milwaukee715-321-0352MilwaukeeWIUSAjoughtoj@uwm.edu',\n",
       "     'metadatacreationdate': '2018-11-15T16:12:58',\n",
       "     'geoBox': '-87.85 -87.85 43.1 43.1',\n",
       "     'image': 'http://data.glos.us:80/metadata/srv/eng/resources.get?uuid=d53be051-b4df-454a-a374-b37ba39b23e3&fname=45013_s.png###http://data.glos.us:80/metadata/srv/eng/resources.get?uuid=d53be051-b4df-454a-a374-b37ba39b23e3&fname=45013.png',\n",
       "     'LegalConstraints': None,\n",
       "     'temporalExtent': '2012-07-26',\n",
       "     'parentId': None,\n",
       "     'datasetcreationdate': '2012-07-26',\n",
       "     'Constraints': None,\n",
       "     'SecurityConstraints': None}},\n",
       "   {'_index': 'metadata',\n",
       "    '_type': 'record',\n",
       "    '_id': 'H-gUF2kB3T1IAmSeHYc4',\n",
       "    '_score': 3.110945,\n",
       "    '_source': {'schema': ' iso19139',\n",
       "     'uuid': '51c17359e4b0dd0e00d9218b',\n",
       "     'id': '1267',\n",
       "     'title': 'Hydraulic and water-quality data collection for the investigation of Great Lakes tributaries for Asian carp spawning and egg-transport suitability',\n",
       "     'abstract': ' If the invasive Asian carps (bighead carp&nbsp;<i>Hypophthalmichthys nobilis</i>&nbsp;and silver carp&nbsp;<i>Hypophthalmichthys molitrix</i>) migrate to the Great Lakes, in spite of the efforts to stop their advancement, these species will require the fast-flowing water of the Great Lakes tributaries for spawning and recruitment in order to establish a growing population. Two Lake Michigan tributaries (the Milwaukee and St. Joseph Rivers) and two Lake Erie tributaries (the Maumee and Sandusky Rivers) were investigated to determine if these tributaries possess the hydraulic and water-quality characteristics to allow successful spawning of Asian carps. To examine this issue, standard U.S.&nbsp;Geological Survey sampling protocols and instrumentation for discharge and water-quality measurements were used, together with differential global positioning system data for georeferencing. Non-standard data-processing techniques, combined with detailed laboratory analysis of Asian carp egg characteristics, allowed an assessment of the transport capabilities of each of these four tributaries. This assessment is based solely on analysis of observed data and did not utilize the collected data for detailed transport modeling.   All four tributaries exhibited potential settling zones for Asian carp eggs both within the estuaries and river mouths and within the lower 100 kilometers (km) of the river. Dams played a leading role in defining these settling zones, with the exception of dams on the Sandusky River. The impoundments created by many of the larger dams on these rivers acted to sufficiently decelerate the flows and allowed the shear velocity to drop below the settling velocity for Asian carp eggs, which would allow the eggs to fall out of suspension and settle on the bottom where it is thought the eggs would perish. While three rivers exhibited these settling zones upstream of the larger dams, not all settling zones are likely to have such effects on egg transport. The Milwaukee River exhibited only a short settling zone upstream of the Grafton Dam, whereas the St. Joseph and Maumee Rivers both had extensive settling zones (&gt;5 km) behind major dams. These longer settling zones are likely to capture more eggs than shorter settling reaches. All four rivers exhibited settling zones at their river mouths, with the Lake Erie tributaries having much larger settling zones extending more than 10 km up the tributaries.   While hydraulic data from all four rivers indicated settling of eggs is possible in some locations, all four rivers also exhibited sufficient temperatures, water-quality characteristics, turbulence, and transport times outside of settling zones for successful suspension and development of Asian carp eggs to the hatching stage before the threat of settlement. These observed data indicate that these four Great Lakes tributaries have sufficient hydraulic and water-quality characteristics to support successful spawning and recruitment of Asian carps. The data indicate that with the right temperature and flow conditions, river reaches as short as 25 km may allow Asian carp eggs sufficient time to develop to hatching. Additionally, examining the relation between critical shear velocity and mean velocity, egg settling appears to take place at mean velocities in the range of 15–25&nbsp;centimeters per second, a much lower value than is generally cited in the literature. A first-order estimate of the minimum transport velocity for Asian carp eggs in a river can be obtained by using mean flow depth and river substrate data, and curves were constructed to show this relation. These findings would expand the number of possible tributaries suitable for Asian carp spawning and contribute to the understanding of how hydraulic and water-quality information can be used to screen additional rivers in the future. ',\n",
       "     'keyword': 'Scientific Investigations Report',\n",
       "     'link': ' https://www.sciencebase.gov/catalog/item/51c17359e4b0dd0e00d9218b  http://pubs.er.usgs.gov/publication/sir20135106  https://pubs.usgs.gov/sir/2013/5106/pdf/sir2013-5106_web.pdf  https://www.sciencebase.gov/catalog/file/get/51c17359e4b0dd0e00d9218b',\n",
       "     'responsibleParty': 'Elizabeth A. Murphy P. Ryan Jackson U.S. Geological Survey',\n",
       "     'metadatacreationdate': '2018-07-12T06:18:02Z',\n",
       "     'geoBox': '-90 -82 40 43',\n",
       "     'image': None,\n",
       "     'LegalConstraints': None,\n",
       "     'temporalExtent': None,\n",
       "     'parentId': None,\n",
       "     'datasetcreationdate': None,\n",
       "     'Constraints': None,\n",
       "     'SecurityConstraints': None}}]}}"
      ]
     },
     "execution_count": 56,
     "metadata": {},
     "output_type": "execute_result"
    }
   ],
   "source": [
    "##Sample search query to show that it works!\n",
    "\n",
    "es_conn.search(index=\"metadata\", doc_type = 'record', body={\"query\": \n",
    "{\"multi_match\": \n",
    "{'query': 'Milwaukee', \n",
    "'fields': ['schema', 'uuid', 'id', 'title', 'abstract', 'keyword', 'geoBox', 'image', 'responsibleParty', 'link', 'LegalConstraints']}}})"
   ]
  },
  {
   "cell_type": "code",
   "execution_count": null,
   "metadata": {},
   "outputs": [],
   "source": []
  }
 ],
 "metadata": {
  "kernelspec": {
   "display_name": "Python 3",
   "language": "python",
   "name": "python3"
  },
  "language_info": {
   "codemirror_mode": {
    "name": "ipython",
    "version": 3
   },
   "file_extension": ".py",
   "mimetype": "text/x-python",
   "name": "python",
   "nbconvert_exporter": "python",
   "pygments_lexer": "ipython3",
   "version": "3.6.6"
  }
 },
 "nbformat": 4,
 "nbformat_minor": 2
}
