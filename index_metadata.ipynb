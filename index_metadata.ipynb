{
 "cells": [
  {
   "cell_type": "code",
   "execution_count": 1,
   "metadata": {},
   "outputs": [],
   "source": [
    "from elasticsearch import Elasticsearch\n",
    "from elasticsearch.helpers import bulk, streaming_bulk\n",
    "import json\n",
    "import math\n",
    "import numbers"
   ]
  },
  {
   "cell_type": "code",
   "execution_count": null,
   "metadata": {},
   "outputs": [],
   "source": [
    "host_url = ['http://127.0.0.1:9200']"
   ]
  },
  {
   "cell_type": "code",
   "execution_count": null,
   "metadata": {},
   "outputs": [],
   "source": [
    "es_conn = Elasticsearch(host_url)"
   ]
  },
  {
   "cell_type": "code",
   "execution_count": null,
   "metadata": {},
   "outputs": [],
   "source": [
    "def sanitize(value):\n",
    "    if isinstance(value, numbers.Number) and math.isnan(value):\n",
    "        return None\n",
    "    else:\n",
    "        return value\n",
    "\n",
    "def parse_metadata(metadata_df):\n",
    "    for index, row in metadata_df.iterrows():\n",
    "        yield json.dumps({'index' : 'metadata',\n",
    "        'doc_type' : 'record',\n",
    "        'doc' : {\n",
    "        'schema' : sanitize(row[0]),\n",
    "        'uuid' : sanitize(row[1]), \n",
    "        'id' : sanitize(row[2]), \n",
    "        'title' : sanitize(row[3]), \n",
    "        'datasetcreationdate' : sanitize(row[4]), \n",
    "        'abstract' : sanitize(row[5]),\n",
    "        'keyword' : sanitize(row[6]),\n",
    "        'geoBox' : sanitize(row[7]),\n",
    "        'temporalExtent' : sanitize(row[8]),\n",
    "        'image' : sanitize(row[9]),\n",
    "        'responsibleParty' : sanitize(row[10]),\n",
    "        'link' : sanitize(row[11]),\n",
    "        'metadatacreationdate' : sanitize(row[12]),\n",
    "        'LegalConstraints' : sanitize(row[13])\n",
    "              },}, \n",
    "        allow_nan = False)"
   ]
  },
  {
   "cell_type": "code",
   "execution_count": null,
   "metadata": {},
   "outputs": [],
   "source": [
    "df = pd.read_csv('clean_metadata.csv')"
   ]
  },
  {
   "cell_type": "code",
   "execution_count": null,
   "metadata": {},
   "outputs": [],
   "source": [
    "bulk(es_conn, parse_metadata(df), index = 'metadata', doc_type = 'record')"
   ]
  },
  {
   "cell_type": "code",
   "execution_count": 2,
   "metadata": {},
   "outputs": [
    {
     "ename": "NameError",
     "evalue": "name 'es_conn' is not defined",
     "output_type": "error",
     "traceback": [
      "\u001b[0;31m---------------------------------------------------------------------------\u001b[0m",
      "\u001b[0;31mNameError\u001b[0m                                 Traceback (most recent call last)",
      "\u001b[0;32m<ipython-input-2-fed3f638ade5>\u001b[0m in \u001b[0;36m<module>\u001b[0;34m()\u001b[0m\n\u001b[0;32m----> 1\u001b[0;31m \u001b[0mprint\u001b[0m \u001b[0;34m(\u001b[0m\u001b[0mes_conn\u001b[0m\u001b[0;34m.\u001b[0m\u001b[0mcount\u001b[0m\u001b[0;34m(\u001b[0m\u001b[0mindex\u001b[0m\u001b[0;34m=\u001b[0m\u001b[0;34m'metadata'\u001b[0m\u001b[0;34m)\u001b[0m\u001b[0;34m[\u001b[0m\u001b[0;34m'count'\u001b[0m\u001b[0;34m]\u001b[0m\u001b[0;34m,\u001b[0m \u001b[0;34m'documents in index'\u001b[0m\u001b[0;34m)\u001b[0m\u001b[0;34m\u001b[0m\u001b[0m\n\u001b[0m",
      "\u001b[0;31mNameError\u001b[0m: name 'es_conn' is not defined"
     ]
    }
   ],
   "source": [
    "print (es_conn.count(index='metadata')['count'], 'documents in index')"
   ]
  },
  {
   "cell_type": "code",
   "execution_count": null,
   "metadata": {},
   "outputs": [],
   "source": []
  }
 ],
 "metadata": {
  "kernelspec": {
   "display_name": "Python 3",
   "language": "python",
   "name": "python3"
  },
  "language_info": {
   "codemirror_mode": {
    "name": "ipython",
    "version": 3
   },
   "file_extension": ".py",
   "mimetype": "text/x-python",
   "name": "python",
   "nbconvert_exporter": "python",
   "pygments_lexer": "ipython3",
   "version": "3.6.6"
  }
 },
 "nbformat": 4,
 "nbformat_minor": 2
}
