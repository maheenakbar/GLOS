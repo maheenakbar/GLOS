{
 "cells": [
  {
   "cell_type": "code",
   "execution_count": null,
   "metadata": {},
   "outputs": [],
   "source": [
    "#This notebook provides a simple example of index creation, document upload, and search for Elasticsearch.\n",
    "#The sample document is taken from the full csv export of all metadata record."
   ]
  },
  {
   "cell_type": "code",
   "execution_count": null,
   "metadata": {},
   "outputs": [],
   "source": [
    "from elasticsearch import Elasticsearch\n",
    "import json\n",
    "import requests"
   ]
  },
  {
   "cell_type": "code",
   "execution_count": 13,
   "metadata": {},
   "outputs": [],
   "source": [
    "#this is the url for a local instance of elasticsearch\n",
    "host_url = ['http://127.0.0.1:9200']"
   ]
  },
  {
   "cell_type": "code",
   "execution_count": 18,
   "metadata": {},
   "outputs": [],
   "source": [
    "#before connecting an elasticsearch server must be running either on local machine or cloud service\n",
    "es_conn = Elasticsearch(host_url)"
   ]
  },
  {
   "cell_type": "code",
   "execution_count": 19,
   "metadata": {},
   "outputs": [],
   "source": [
    "#This is an example of an acceptable elasticsearch document formattaken from the first row of our metadata csv\n",
    "document = {'schema' : 'iso19139', \n",
    "        'uuid' : 'd53be051-b4df-454a-a374-b37ba39b23e3', \n",
    "        'id' : '288', \n",
    "        'title' : 'Milwaukee Buoy ATW20 (45013)', \n",
    "        'datasetcreationdate' : '2012-07-26', \n",
    "        'abstract' : 'University of Wisconsin in-situ buoy near Atwater Park, WI.',\n",
    "        'keyword' : 'atmospheric pressure###air temperature###dew point temperature###significant wave height###wave period###water temperature###wind speed/direction###air pressure###dew point###significant wave period###water temperature - surface###wind speed###wind gust###wind from direction###thermistor###NDBC ID 45013###ATW20###GLOS###buoys###observations###atmospheric pressure###air temperature###dew point temperature###significant wave height###wave period###water temperature###wind speed/direction###Lake Michigan###Atwater Park###WI###Great Lakes###UWM###Longitude -87.850###Latitude 43.100###Lake Michigan###Atwater Park, WI###Great Lakes###observationsBuoys###climatology###temperature###WindDirection###Significant Wave Period###WindSpeed###SignificantWaveHeight###AirTemperature###Air Pressure###WaterTemperature###Relative Humidity###WaterTemperature @ 3 ft###WaterTemperature @ 7 ft###WaterTemperature @ 10 ft###WaterTemperature @ 13 ft###WaterTemperature @ 16 ft###WaterTemperature @ 20 ft###WaterTemperature @ 23 ft###WaterTemperature @ 26 ft###WaterTemperature @ 30 ft###WaterTemperature @ 33 ft###WaterTemperature @ 36 ft###WaterTemperature @ 39 ft###WaterTemperature @ 43 ft###WaterTemperature @ 46 ft###WaterTemperature @ 49 ft###WaterTemperature @ 52 ft###WaterTemperature @ 56 ft###WaterTemperature @ 59 ft###WaterTemperature @ 62 ft###Wind Gust',\n",
    "        'geoBox' : '-87.85###-87.85###43.1###43.1',\n",
    "        'temporalExtent' : '2012-07-26',\n",
    "        'image' : 'http://data.glos.us:80/metadata/srv/eng/resources.get?uuid=d53be051-b4df-454a-a374-b37ba39b23e3&fname=45013_s.png###http://data.glos.us:80/metadata/srv/eng/resources.get?uuid=d53be051-b4df-454a-a374-b37ba39b23e3&fname=45013.png',\n",
    "        'responsibleParty' : 'Jeff HoughtonUniversity of Wisconsin-Milwaukee715-321-0352600 East Greenfield Ave.MilwaukeeWI53204houghtoj@uwm.edu###Jeff HoughtonUniversity of Wisconsin-Milwaukee715-321-0352MilwaukeeWIUSAjoughtoj@uwm.edu',\n",
    "        'link' : '###http://www.ndbc.noaa.gov/station_page.php?station=45013######http://data.glos.us/portal/getObsByPlatform.php?provider=glos&platform=ATW20######http://data.glos.us/metadata?uuid=d53be051-b4df-454a-a374-b37ba39b23e3',\n",
    "        'metadatacreationdate' : '2018-10-09T16:37:08',\n",
    "        'LegalConstraints' : 'NaN'}"
   ]
  },
  {
   "cell_type": "code",
   "execution_count": 34,
   "metadata": {},
   "outputs": [
    {
     "data": {
      "text/plain": [
       "{'_index': 'metadata',\n",
       " '_type': 'record',\n",
       " '_id': '1',\n",
       " '_version': 1,\n",
       " 'result': 'created',\n",
       " '_shards': {'total': 2, 'successful': 1, 'failed': 0},\n",
       " '_seq_no': 0,\n",
       " '_primary_term': 1}"
      ]
     },
     "execution_count": 34,
     "metadata": {},
     "output_type": "execute_result"
    }
   ],
   "source": [
    "#creates a new index called metadata where each document is of type record\n",
    "#manually set id for first record to 1 and json.dumps document dictionary\n",
    "es_conn.index(index = 'metadata', doc_type = 'record', id =1, body = json.dumps(document))"
   ]
  },
  {
   "cell_type": "code",
   "execution_count": 66,
   "metadata": {},
   "outputs": [
    {
     "data": {
      "text/plain": [
       "{'took': 2,\n",
       " 'timed_out': False,\n",
       " '_shards': {'total': 5, 'successful': 5, 'skipped': 0, 'failed': 0},\n",
       " 'hits': {'total': 1,\n",
       "  'max_score': 0.55034834,\n",
       "  'hits': [{'_index': 'metadata',\n",
       "    '_type': 'record',\n",
       "    '_id': '1',\n",
       "    '_score': 0.55034834,\n",
       "    '_source': {'schema': 'iso19139',\n",
       "     'uuid': 'd53be051-b4df-454a-a374-b37ba39b23e3',\n",
       "     'id': '288',\n",
       "     'title': 'Milwaukee Buoy ATW20 (45013)',\n",
       "     'datasetcreationdate': '2012-07-26',\n",
       "     'abstract': 'University of Wisconsin in-situ buoy near Atwater Park, WI.',\n",
       "     'keyword': 'atmospheric pressure###air temperature###dew point temperature###significant wave height###wave period###water temperature###wind speed/direction###air pressure###dew point###significant wave period###water temperature - surface###wind speed###wind gust###wind from direction###thermistor###NDBC ID 45013###ATW20###GLOS###buoys###observations###atmospheric pressure###air temperature###dew point temperature###significant wave height###wave period###water temperature###wind speed/direction###Lake Michigan###Atwater Park###WI###Great Lakes###UWM###Longitude -87.850###Latitude 43.100###Lake Michigan###Atwater Park, WI###Great Lakes###observationsBuoys###climatology###temperature###WindDirection###Significant Wave Period###WindSpeed###SignificantWaveHeight###AirTemperature###Air Pressure###WaterTemperature###Relative Humidity###WaterTemperature @ 3 ft###WaterTemperature @ 7 ft###WaterTemperature @ 10 ft###WaterTemperature @ 13 ft###WaterTemperature @ 16 ft###WaterTemperature @ 20 ft###WaterTemperature @ 23 ft###WaterTemperature @ 26 ft###WaterTemperature @ 30 ft###WaterTemperature @ 33 ft###WaterTemperature @ 36 ft###WaterTemperature @ 39 ft###WaterTemperature @ 43 ft###WaterTemperature @ 46 ft###WaterTemperature @ 49 ft###WaterTemperature @ 52 ft###WaterTemperature @ 56 ft###WaterTemperature @ 59 ft###WaterTemperature @ 62 ft###Wind Gust',\n",
       "     'geoBox': '-87.85###-87.85###43.1###43.1',\n",
       "     'temporalExtent': '2012-07-26',\n",
       "     'image': 'http://data.glos.us:80/metadata/srv/eng/resources.get?uuid=d53be051-b4df-454a-a374-b37ba39b23e3&fname=45013_s.png###http://data.glos.us:80/metadata/srv/eng/resources.get?uuid=d53be051-b4df-454a-a374-b37ba39b23e3&fname=45013.png',\n",
       "     'responsibleParty': 'Jeff HoughtonUniversity of Wisconsin-Milwaukee715-321-0352600 East Greenfield Ave.MilwaukeeWI53204houghtoj@uwm.edu###Jeff HoughtonUniversity of Wisconsin-Milwaukee715-321-0352MilwaukeeWIUSAjoughtoj@uwm.edu',\n",
       "     'link': '###http://www.ndbc.noaa.gov/station_page.php?station=45013######http://data.glos.us/portal/getObsByPlatform.php?provider=glos&platform=ATW20######http://data.glos.us/metadata?uuid=d53be051-b4df-454a-a374-b37ba39b23e3',\n",
       "     'metadatacreationdate': '2018-10-09T16:37:08',\n",
       "     'LegalConstraints': 'NaN'}}]}}"
      ]
     },
     "execution_count": 66,
     "metadata": {},
     "output_type": "execute_result"
    }
   ],
   "source": [
    "#sample output based on a simple search query\n",
    "es_conn.search(index=\"metadata\", body={\"query\": {\"match\": {'keyword':'temperature'}}})"
   ]
  },
  {
   "cell_type": "code",
   "execution_count": null,
   "metadata": {},
   "outputs": [],
   "source": []
  }
 ],
 "metadata": {
  "kernelspec": {
   "display_name": "Python 3",
   "language": "python",
   "name": "python3"
  },
  "language_info": {
   "codemirror_mode": {
    "name": "ipython",
    "version": 3
   },
   "file_extension": ".py",
   "mimetype": "text/x-python",
   "name": "python",
   "nbconvert_exporter": "python",
   "pygments_lexer": "ipython3",
   "version": "3.6.6"
  }
 },
 "nbformat": 4,
 "nbformat_minor": 2
}
