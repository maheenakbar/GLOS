{
 "cells": [
  {
   "cell_type": "code",
   "execution_count": 20,
   "metadata": {},
   "outputs": [],
   "source": [
    "import elasticsearch\n",
    "from elasticsearch import Elasticsearch\n",
    "import json\n",
    "import requests\n",
    "import pandas as pd"
   ]
  },
  {
   "cell_type": "code",
   "execution_count": 2,
   "metadata": {},
   "outputs": [],
   "source": [
    "host_url = ['http://127.0.0.1:9200']"
   ]
  },
  {
   "cell_type": "code",
   "execution_count": 3,
   "metadata": {},
   "outputs": [],
   "source": [
    "es_conn = Elasticsearch(host_url)"
   ]
  },
  {
   "cell_type": "code",
   "execution_count": 5,
   "metadata": {},
   "outputs": [],
   "source": [
    "###This is the index mapping which defines the fields, data types, and settings for the index\n",
    "mapping = {\n",
    "    'settings' : {\n",
    "    \"index.mapping.ignore_malformed\": True},\n",
    "    'metadata':{  \n",
    "      'mappings':{  \n",
    "         'record':{  \n",
    "            'properties':{  \n",
    "               'LegalConstraints':{  \n",
    "                  'type':'text',\n",
    "                  'ignore_malformed' : True,\n",
    "                  'fields':{  \n",
    "                     'keyword':{  \n",
    "                        'type':'keyword',\n",
    "                        'ignore_above':256\n",
    "                     }\n",
    "                  }\n",
    "               },\n",
    "               'abstract':{  \n",
    "                  'type':'text',\n",
    "                  'ignore_malformed' : True,\n",
    "                  'fields':{  \n",
    "                     'keyword':{  \n",
    "                        'type':'keyword',\n",
    "                        'ignore_above':256\n",
    "                     }\n",
    "                  }\n",
    "               },\n",
    "               'datasetcreationdate':{  \n",
    "                  'type':'text',\n",
    "                  'ignore_malformed' : True,\n",
    "                  'fields':{  \n",
    "                     'keyword':{  \n",
    "                        'type':'keyword',\n",
    "                        'ignore_above':256\n",
    "                     }\n",
    "                  }\n",
    "               },\n",
    "               'geoBox':{  \n",
    "                  'type':'text',\n",
    "                  'ignore_malformed' : True,\n",
    "                  'fields':{  \n",
    "                     'keyword':{  \n",
    "                        'type':'keyword',\n",
    "                        'ignore_above':256\n",
    "                     }\n",
    "                  }\n",
    "               },\n",
    "               'id':{  \n",
    "                  'type':'text',\n",
    "                  'ignore_malformed' : True,\n",
    "                  'fields':{  \n",
    "                     'keyword':{  \n",
    "                        'type':'keyword',\n",
    "                        'ignore_above':256\n",
    "                     }\n",
    "                  }\n",
    "               },\n",
    "               'image':{  \n",
    "                  'type':'text',\n",
    "                  'ignore_malformed' : True,\n",
    "                  'fields':{  \n",
    "                     'keyword':{  \n",
    "                        'type':'keyword',\n",
    "                        'ignore_above':256\n",
    "                     }\n",
    "                  }\n",
    "               },\n",
    "               'keyword':{  \n",
    "                  'type':'text',\n",
    "                  'ignore_malformed' : True,\n",
    "                  'fields':{  \n",
    "                     'keyword':{  \n",
    "                        'type':'keyword',\n",
    "                        'ignore_above':256\n",
    "                     }\n",
    "                  }\n",
    "               },\n",
    "               'link':{  \n",
    "                  'type':'text',\n",
    "                  'ignore_malformed' : True,\n",
    "                  'fields':{  \n",
    "                     'keyword':{  \n",
    "                        'type':'keyword',\n",
    "                        'ignore_above':256\n",
    "                     }\n",
    "                  }\n",
    "               },\n",
    "               'metadatacreationdate':{  \n",
    "                  'type':'text',\n",
    "                  'ignore_malformed' : True,\n",
    "                  'fields':{  \n",
    "                     'keyword':{  \n",
    "                        'type':'keyword',\n",
    "                        'ignore_above':256\n",
    "                     }\n",
    "                  }\n",
    "               },\n",
    "               'responsibleParty':{  \n",
    "                  'type':'text',\n",
    "                  'ignore_malformed' : True,\n",
    "                  'fields':{  \n",
    "                     'keyword':{  \n",
    "                        'type':'keyword',\n",
    "                        'ignore_above':256\n",
    "                     }\n",
    "                  }\n",
    "               },\n",
    "               'schema':{  \n",
    "                  'type':'text',\n",
    "                  'ignore_malformed' : True,\n",
    "                  'fields':{  \n",
    "                     'keyword':{  \n",
    "                        'type':'keyword',\n",
    "                        'ignore_above':256\n",
    "                     }\n",
    "                  }\n",
    "               },\n",
    "               'temporalExtent':{  \n",
    "                  'type':'text',\n",
    "                  'ignore_malformed' : True,\n",
    "                  'fields':{  \n",
    "                     'keyword':{  \n",
    "                        'type':'keyword',\n",
    "                        'ignore_above':256\n",
    "                     }\n",
    "                  }\n",
    "               },\n",
    "               'title':{  \n",
    "                  'type':'text',\n",
    "                  'ignore_malformed' : True,\n",
    "                  'fields':{  \n",
    "                     'keyword':{  \n",
    "                        'type':'keyword',\n",
    "                        'ignore_above':256\n",
    "                     }\n",
    "                  }\n",
    "               },\n",
    "               'uuid':{  \n",
    "                  'type':'text',\n",
    "                  'ignore_malformed' : True,\n",
    "                  'fields':{  \n",
    "                     'keyword':{  \n",
    "                        'type':'keyword',\n",
    "                        'ignore_above':256\n",
    "                     }\n",
    "                  }\n",
    "               }\n",
    "            }\n",
    "         }\n",
    "      }\n",
    "   }\n",
    "}"
   ]
  },
  {
   "cell_type": "code",
   "execution_count": 23,
   "metadata": {},
   "outputs": [
    {
     "data": {
      "text/plain": [
       "{'acknowledged': True, 'shards_acknowledged': True, 'index': 'metadata'}"
      ]
     },
     "execution_count": 23,
     "metadata": {},
     "output_type": "execute_result"
    }
   ],
   "source": [
    "es_conn.indices.create(index = 'metadata', body = mapping)"
   ]
  },
  {
   "cell_type": "code",
   "execution_count": 7,
   "metadata": {},
   "outputs": [],
   "source": [
    "document = {'schema' : 'iso19139', \n",
    "        'uuid' : 'd53be051-b4df-454a-a374-b37ba39b23e3', \n",
    "        'id' : '288', \n",
    "        'title' : 'Milwaukee Buoy ATW20 (45013)', \n",
    "        'datasetcreationdate' : '2012-07-26', \n",
    "        'abstract' : 'University of Wisconsin in-situ buoy near Atwater Park, WI.',\n",
    "        'keyword' : 'atmospheric pressure###air temperature###dew point temperature###significant wave height###wave period###water temperature###wind speed/direction###air pressure###dew point###significant wave period###water temperature - surface###wind speed###wind gust###wind from direction###thermistor###NDBC ID 45013###ATW20###GLOS###buoys###observations###atmospheric pressure###air temperature###dew point temperature###significant wave height###wave period###water temperature###wind speed/direction###Lake Michigan###Atwater Park###WI###Great Lakes###UWM###Longitude -87.850###Latitude 43.100###Lake Michigan###Atwater Park, WI###Great Lakes###observationsBuoys###climatology###temperature###WindDirection###Significant Wave Period###WindSpeed###SignificantWaveHeight###AirTemperature###Air Pressure###WaterTemperature###Relative Humidity###WaterTemperature @ 3 ft###WaterTemperature @ 7 ft###WaterTemperature @ 10 ft###WaterTemperature @ 13 ft###WaterTemperature @ 16 ft###WaterTemperature @ 20 ft###WaterTemperature @ 23 ft###WaterTemperature @ 26 ft###WaterTemperature @ 30 ft###WaterTemperature @ 33 ft###WaterTemperature @ 36 ft###WaterTemperature @ 39 ft###WaterTemperature @ 43 ft###WaterTemperature @ 46 ft###WaterTemperature @ 49 ft###WaterTemperature @ 52 ft###WaterTemperature @ 56 ft###WaterTemperature @ 59 ft###WaterTemperature @ 62 ft###Wind Gust',\n",
    "        'geoBox' : '-87.85###-87.85###43.1###43.1',\n",
    "        'temporalExtent' : '2012-07-26',\n",
    "        'image' : 'http://data.glos.us:80/metadata/srv/eng/resources.get?uuid=d53be051-b4df-454a-a374-b37ba39b23e3&fname=45013_s.png###http://data.glos.us:80/metadata/srv/eng/resources.get?uuid=d53be051-b4df-454a-a374-b37ba39b23e3&fname=45013.png',\n",
    "        'responsibleParty' : 'Jeff HoughtonUniversity of Wisconsin-Milwaukee715-321-0352600 East Greenfield Ave.MilwaukeeWI53204houghtoj@uwm.edu###Jeff HoughtonUniversity of Wisconsin-Milwaukee715-321-0352MilwaukeeWIUSAjoughtoj@uwm.edu',\n",
    "        'link' : '###http://www.ndbc.noaa.gov/station_page.php?station=45013######http://data.glos.us/portal/getObsByPlatform.php?provider=glos&platform=ATW20######http://data.glos.us/metadata?uuid=d53be051-b4df-454a-a374-b37ba39b23e3',\n",
    "        'metadatacreationdate' : '2018-10-09T16:37:08',\n",
    "        'LegalConstraints' : 'NaN'}"
   ]
  },
  {
   "cell_type": "code",
   "execution_count": 25,
   "metadata": {},
   "outputs": [
    {
     "data": {
      "text/plain": [
       "{'_index': 'metadata',\n",
       " '_type': 'record',\n",
       " '_id': 'S1ysA2kBcUjE_BePOev2',\n",
       " '_version': 1,\n",
       " 'result': 'created',\n",
       " '_shards': {'total': 2, 'successful': 1, 'failed': 0},\n",
       " '_seq_no': 0,\n",
       " '_primary_term': 1}"
      ]
     },
     "execution_count": 25,
     "metadata": {},
     "output_type": "execute_result"
    }
   ],
   "source": [
    "es_conn.index(index = 'metadata', doc_type = 'record', body = document)"
   ]
  },
  {
   "cell_type": "code",
   "execution_count": null,
   "metadata": {},
   "outputs": [],
   "source": []
  }
 ],
 "metadata": {
  "kernelspec": {
   "display_name": "Python 3",
   "language": "python",
   "name": "python3"
  },
  "language_info": {
   "codemirror_mode": {
    "name": "ipython",
    "version": 3
   },
   "file_extension": ".py",
   "mimetype": "text/x-python",
   "name": "python",
   "nbconvert_exporter": "python",
   "pygments_lexer": "ipython3",
   "version": "3.6.6"
  }
 },
 "nbformat": 4,
 "nbformat_minor": 2
}
